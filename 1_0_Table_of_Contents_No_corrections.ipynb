{
  "nbformat": 4,
  "nbformat_minor": 0,
  "metadata": {
    "colab": {
      "provenance": [],
      "include_colab_link": true
    },
    "kernelspec": {
      "name": "python3",
      "display_name": "Python 3"
    }
  },
  "cells": [
    {
      "cell_type": "markdown",
      "metadata": {
        "id": "view-in-github",
        "colab_type": "text"
      },
      "source": [
        "<a href=\"https://colab.research.google.com/github/Absoleme/googleCollab/blob/main/1_0_Table_of_Contents_No_corrections.ipynb\" target=\"_parent\"><img src=\"https://colab.research.google.com/assets/colab-badge.svg\" alt=\"Open In Colab\"/></a>"
      ]
    },
    {
      "cell_type": "markdown",
      "metadata": {
        "id": "jD5ZDiSt58P2"
      },
      "source": [
        "#English version - Machine Learning\n",
        "\n",
        "[1.1 - Machine Learning - intro](https://colab.research.google.com/drive/1wyAD5yTeZdNmrMbMs01zmxc1FkqTBeBC)\n",
        "\n",
        "[1.2 - Machine Learning - K-nearest neighbors - Test set - Accuracy](https://colab.research.google.com/drive/1RjUEAg9ZLw3DuMFVOgL9H5M5Ju68AzLT)\n",
        "\n",
        "[1.3 - Machine Learning - Normalization](https://colab.research.google.com/drive/1dqzuzSrG9HOYXcjPvjMiFmi_RXEAjaUe)\n",
        "\n",
        "[1.4 - Machine Learning - Decision Trees - Overfitting](https://colab.research.google.com/drive/125vJ2Tp46GGPZ-H6GudqpD2LBodC8FU-)\n",
        "\n",
        "[1.5 - Machine Learning - Linear Regression - MSE - Gradient descent and optimizers - Vectorization](https://colab.research.google.com/drive/1_aIbBP-Yu0jUra47BAzFwX-l81bOyW-G)\n",
        "\n",
        "[1.6 - Machine Learning - Regularization - Polynomial regression](https://colab.research.google.com/drive/1dpG6IRTB9YOI918hF4zM7aKARAnf1UK4)\n",
        "\n",
        "[1.7 - Machine Learning - Logistic Regression - Kernelized SVM](https://colab.research.google.com/drive/19tPKl79E6Xuf01-BpPeQK9BpP5C4ZzuX)\n",
        "\n",
        "[1.8 - Machine Learning - Cross validation - Validation curve](https://colab.research.google.com/drive/1wL6gZei2n2Imjidku6pD37MURjLM7MzL)\n",
        "\n",
        "[1.9 - Machine Learning - Evaluation Metrics - Confusion Matrix - Multiclass Evaluation](https://colab.research.google.com/drive/1OlagQQMeEjAyYT73O5mBnLAySzMi8IDg)\n",
        "\n",
        "[1.10 - Machine Learning - Precision-Recall Curve - ROC Curve - Area Under Curve](https://colab.research.google.com/drive/1SJwDGyaWQQf0eH_mOzhQ3cnnHeIVoriC)\n",
        "\n",
        "[1.11 - Machine Learning - Model selection and optimization - Data Leakage](https://colab.research.google.com/drive/18_KJGc3waTcAiyJci5bqz0i5D2Ks_bWf)\n",
        "\n",
        "[1.12 - Machine Learning - Data Exploration Tools](https://colab.research.google.com/drive/17UN7QtK3esBqRL_2vY3GJPtwF5Yg2wB9)"
      ]
    },
    {
      "cell_type": "markdown",
      "metadata": {
        "id": "z1JlQhsNHK11"
      },
      "source": [
        "##Assignments - Machine Learning\n",
        "\n",
        "[ML - hands-on 1](https://colab.research.google.com/drive/1ycOpg0ZEL6geJk5X4uwtSUgqg-Lmm7cY) : Discover pandas, a useful library for treating tabular data. Try it out with a k-nearest neighbors classifier\n",
        "\n",
        "[ML - hands-on 2](https://colab.research.google.com/drive/1asUEqTXn6tSZYJIrOWVzyFMw0FnaqutL) : Pandas again, Decision tree, random forest, overfitting, underfitting, optimization of the accuracy\n",
        "\n",
        "[ML - hands-on 3](https://colab.research.google.com/drive/16eo3nkOKe0nbMWPAmw-Nv1wyOiKRbVu5) : Pandas again, Polynomial regression, Decision tree\n",
        "\n",
        "[ML - hands-on 4](https://colab.research.google.com/drive/1IHBsHlqW18EZToovkGlH9IoFPWz2VOb7) : Pandas again, SVM, ROC-AUC curve. We did not have time to talk about that, and we probably won't. I might replace this hands-on with something else, or maybe I will switch directly to Deep Learning.\n",
        "\n",
        "[ML - hands-on 5](https://colab.research.google.com/drive/1k70D2xYKX44d86q_fMFJVoSc1qPxj08g) : Exploratory data analysis on the New York City taxi fare set, thank you Kaggle and Google\n"
      ]
    },
    {
      "cell_type": "markdown",
      "metadata": {
        "id": "YcE9kCO-6Qrq"
      },
      "source": [
        "## End project assignment\n",
        "[ML - project](https://colab.research.google.com/drive/1RgCxUkKYD_W8eME3nN6cFItusAGpBpcd) : Tennis match prediction"
      ]
    },
    {
      "cell_type": "markdown",
      "metadata": {
        "id": "jswTSshOqTZG"
      },
      "source": [
        "##Annals\n",
        "\n",
        "[2020 ST2MLE MCQ](https://www.eyrignoux.com.fr/coursIA/deepLearning/2020-ST2MLE-DE.odt) - [2020 ST2MLE correction](https://www.eyrignoux.com.fr/coursIA/deepLearning/2020-ST2MLE-DE-Correction.odt)\n",
        "\n",
        "[2021 ST2MLE MCQ](https://www.eyrignoux.com.fr/coursIA/deepLearning/2021-ST2MLE-DE.odt) - [2021 ST2MLE correction](https://www.eyrignoux.com.fr/coursIA/deepLearning/2021-ST2MLE-DE-Correction.odt)"
      ]
    },
    {
      "cell_type": "markdown",
      "metadata": {
        "id": "QmOs2qeW6-AO"
      },
      "source": [
        "# Deep Learning\n",
        "Starting from here, we are doing only Deep Learning, with Keras and sometimes numpy. Pandas becomes rarely used, usually only to load the data at the beginning of the notebooks.\n",
        "\n",
        "[2.1 - Deep Learning - Dense Neural Networks - Tensorflow - Keras - PyTorch](https://colab.research.google.com/drive/1-dPBExWJKxiNGi4w805DSZCoRd_JTqqr)\n",
        "\n",
        "[2.2 - Deep Learning - DNN - Image Classification - Tensorboard](https://colab.research.google.com/drive/1zURIay2Yy5aVdq49-0UnFUtaWGAZqX-n)\n",
        "\n",
        "[2.3 - Deep Learning - DNN - Vectorization - Activation functions - Backpropagation](https://colab.research.google.com/drive/13UfDbSzVEOcgwkgxlg-1Ll0yfY7MXvv5)\n",
        "\n",
        "[2.4 - Deep Learning - DNN - Dropout - Annealing and cyclical learning rates - Hyperparameters choice](https://colab.research.google.com/drive/1Ygrs0hTB33USkSbktwRaelBxKWptAd2P)\n",
        "\n",
        "[2.5 - Deep Learning - CNN](https://colab.research.google.com/drive/1VFYMK0YToeKAyT1ftcUaVa3vtkdyD0BC)\n",
        "\n",
        "[2.6 - Deep Learning - CNN - Common architectures - Transfer learning - Image similarity search](https://colab.research.google.com/drive/1ps2uuxQjA-tBEjttWCXkw556mjAmArzX)\n",
        "\n",
        "[2.7 - Deep Learning - NN - Lack of theory - Observing layers of a CNN](https://colab.research.google.com/drive/1OTpphKPFR_x_6dghpLK39KSAbCQyJ0Dm)\n",
        "\n",
        "[2.8 - Fairness - Interpretability - Causality - Malicious use of AI](https://colab.research.google.com/drive/10HftQjsNekSRNSNUSLBo1XAd1B2_V2h5)\n",
        "\n",
        "[2.9 - Deep Learning - Data Analysis - Advises](https://colab.research.google.com/drive/1wpdzSwacsCryrDlBnLDF8GOwcD0YbJoO)\n",
        "\n"
      ]
    },
    {
      "cell_type": "markdown",
      "metadata": {
        "id": "JFH69-LUHTn8"
      },
      "source": [
        "##Assignments - Deep Learning\n",
        "\n",
        "[DL - hands-on 1](https://colab.research.google.com/drive/1AT70Jrdd3hVGD3lK31PTAMgfsJSsuQPP) : Fashion MNIST\n",
        "\n",
        "[DL - hands-on 2](https://colab.research.google.com/drive/1ZIikQgAQ2dWXBPIR2Fsr8Oa9TjJrrDHt) : Detect the keypoints of a face\n",
        "\n",
        "[DL - hands-on 3](https://colab.research.google.com/drive/1cUTDHRxpdR5MvdK4J3-fy7cJemrJMrjs) : Break a real world captcha\n",
        "\n",
        "[DL - hands-on 4](https://colab.research.google.com/drive/1qIl-C-uE2wlEqg4yeN87Sk6nEAVvu4k8) : Train a neural network to recognize drawings, deploy it on a web site, and use it to recognize symbols on your smartphone that you draw with your finger\n",
        "\n",
        "[DL - hands-on 5](https://colab.research.google.com/drive/1itgHgwlPqT-qB64QYFygPFwPZM1DYyas) : Watch through the eyes of an autonomous car\n"
      ]
    },
    {
      "cell_type": "markdown",
      "metadata": {
        "id": "HhCRggvw7hn2"
      },
      "source": [
        "##Advanced Deep Learning\n",
        "[2.10 - Deep Learning - CNN - Autoencoders](https://colab.research.google.com/drive/1queCpuOB3JzUpQDCDqSfr5gCGkkXHqwY)\n",
        "\n",
        "[2.11 - Deep Learning - CNN - Generative Adversarial Networks](https://colab.research.google.com/drive/100Z7aLvJgqJeBoSNwjXUp6gBSZojiRZ1)\n",
        "\n",
        "[2.12 - Deep Learning - CNN - Object detection](https://colab.research.google.com/drive/1Hgzvwli1qUHDq0HRIaLnT45LjDr5qkML)\n",
        "\n",
        "[2.13 - Object detection - bounding boxes - anchor boxes - IoU - multi-scale](https://colab.research.google.com/drive/13kK94JZgQUyuhrgXnfyl7ORQpY3-PHvM)\n",
        "\n",
        "[2.14 - Deep Learning - CNN - Image segmentation - UNET](https://colab.research.google.com/drive/1y4QNHgrVLYaSaIgCPaINUylKDmguWFvJ)\n",
        "\n"
      ]
    },
    {
      "cell_type": "markdown",
      "metadata": {
        "id": "CzZoxYOf2sJT"
      },
      "source": [
        "##Annals\n",
        "\n",
        "[2018 OUVAIDL DE](https://www.eyrignoux.com.fr/coursIA/deepLearning/1819-OUVAIDL-CE.pdf) - [2018 OUVAIDL correction](https://www.eyrignoux.com.fr/coursIA/deepLearning/1819-OUVAIDL-DE%20-%20Correction.pdf)\n",
        "\n",
        "[2018 OUVAIDL RAT](https://www.eyrignoux.com.fr/coursIA/deepLearning/1819-OUVAIDL-RAT.pdf) - [2018 OUVAIDL RAT Correction](https://www.eyrignoux.com.fr/coursIA/deepLearning/1819-OUVAIDL-RAT-Correction.odt)\n",
        "\n",
        "[2019 OUVAIDL DE](https://www.eyrignoux.com.fr/coursIA/deepLearning/1920-OUVAIDL-DE.pdf) - [2019 OUVAIDL correction](https://www.eyrignoux.com.fr/coursIA/deepLearning/1920-OUVAIDL-DE-Corrigé.odt)\n",
        "\n",
        "[2019 OUVAIDL RAT](https://www.eyrignoux.com.fr/coursIA/deepLearning/1920-OUVAIDL-RAT.pdf) - [2019 OUVAIDL RAT Correction](https://www.eyrignoux.com.fr/coursIA/deepLearning/1920-OUVAIDL-RAT-Corrigé.odt)\n",
        "\n",
        "[2020 OUVAIDL DE](https://www.eyrignoux.com.fr/coursIA/deepLearning/2021-OUVAIDL-DE.odt) - [2020 OUVAIDL correction](https://www.eyrignoux.com.fr/coursIA/deepLearning/2021-OUVAIDL-DE-Correction.odt)\n",
        "\n",
        "[2020 OUVAIDL RAT](https://www.eyrignoux.com.fr/coursIA/deepLearning/2021-OUVAIDL-RAT.odt) - [2020 OUVAIDL RAT correction](https://www.eyrignoux.com.fr/coursIA/deepLearning/2021-OUVAIDL-RAT-Correction.odt)\n",
        "\n",
        "[2019 ST2IAR DE](https://www.eyrignoux.com.fr/coursIA/deepLearning/1920-ST2IAR-DE.pdf) - [2019 ST2IAR correction](https://www.eyrignoux.com.fr/coursIA/deepLearning/1920-ST2IAR-DE-Corrigé.odt)\n",
        "\n",
        "[2019 ST2IAR RAT](https://www.eyrignoux.com.fr/coursIA/deepLearning/1920-ST2IAR-RAT.pdf) - [2019 ST2IAR RAT Correction](https://www.eyrignoux.com.fr/coursIA/deepLearning/1920-ST2IAR-RAT-Corrigé.odt)\n",
        "\n",
        "[2020 ST2IAR DE](https://www.eyrignoux.com.fr/coursIA/deepLearning/2021-ST2IAR-DE.odt) - [2020 ST2IAR correction](https://www.eyrignoux.com.fr/coursIA/deepLearning/2021-ST2IAR-DE-Corrigé.odt)\n",
        "\n",
        "[2020 ST2IAR RAT](https://www.eyrignoux.com.fr/coursIA/deepLearning/2021-ST2IAR-RAT.odt) - [2020 ST2IAR RAT correction](https://www.eyrignoux.com.fr/coursIA/deepLearning/2021-ST2IAR-RAT-Correction.odt)"
      ]
    },
    {
      "cell_type": "markdown",
      "metadata": {
        "id": "FDijHyV7H-B3"
      },
      "source": [
        "## End project assignment for OUVAIDL\n",
        "\n",
        "You will receive a mark on that one. You have to do it in groups of 2 people.\n",
        "\n",
        "The last TP session is on monday 16th december 2019. During that session, each group will show me what he did, and each group will have to send me the link to its notebook. **I WON'T ACCEPT ANY SUBMISSION AFTER THAT DATE.**\n",
        "\n",
        "[DL- Face-recognition - Project](https://colab.research.google.com/drive/1MpMFzcNGlcu3IJ6DddXiuFG6zswQDp7g)\n",
        "\n",
        "[DL- Mask R-CNN - Project](https://colab.research.google.com/drive/18hcO_SZd2aDnqgwVyMvTOQpimHAWX8Q2)"
      ]
    },
    {
      "cell_type": "markdown",
      "metadata": {
        "id": "5Id1yXM9HecD"
      },
      "source": [
        "#Reinforcement Learning\n",
        "\n",
        "[3.1 - Reinforcement learning - Introduction](https://colab.research.google.com/drive/12qHGHhzwfYaVIzCOodTry4fViH9Cj-Up)\n",
        "\n",
        "[3.2 - Reinforcement learning - Tabular methods - Dynamic Programming](https://colab.research.google.com/drive/1r7nvDzAA3BGfCzO9k4gSIUHp47Zr7xTA)\n",
        "\n",
        "[3.3 - Reinforcement learning - Tabular methods - Monte Carlo - Temporal Difference](https://colab.research.google.com/drive/1JhBdUifHTD-nWSNAZ-8t30X7bX8BITgg)\n",
        "\n",
        "[3.4 - Reinforcement learning - Tabular methods - Improvements](https://colab.research.google.com/drive/1ce5V5AkRpnZct0kKRs_hOdxTPKntX3-U)\n",
        "\n",
        "[3.5 - Reinforcement learning - Tabular methods - MCTS](https://colab.research.google.com/drive/1CoqgbmrJJVF4-cLZ7g5_LAvGKFCvt3TA)\n",
        "\n",
        "[3.6 - Reinforcement learning - Deep Q-Networks](https://colab.research.google.com/drive/1JLh5FPep2uPQjT61VMN-OBsYqEMs1toW)\n",
        "\n",
        "[3.7 - Reinforcement learning - PPO](https://colab.research.google.com/drive/1pk5k8RpJD-_LjBN6zrGFCRnNdnwABZ_Y)\n"
      ]
    },
    {
      "cell_type": "markdown",
      "metadata": {
        "id": "lhZ2JsybejXd"
      },
      "source": [
        "## End project assignment\n",
        "\n",
        "You will receive a mark on that one. You have to do it in groups of 2 people.\n",
        "\n",
        "[RL- Connect4 - Project](https://colab.research.google.com/drive/1pw4uqR6p6TId4GeiTFQwfAc5vOhK4VUd)"
      ]
    },
    {
      "cell_type": "markdown",
      "metadata": {
        "id": "1NhqRAirF3OW"
      },
      "source": [
        "#Natural Language Processing (NLP)\n",
        "\n",
        "[4.1 - NLP - Introduction](https://colab.research.google.com/drive/1HLbfXkJldqRGu_UgnS34jfXcxcqjwJet#scrollTo=2ucHygDEjQNi)\n",
        "\n",
        "[4.2 - NLP - Text preprocessing - Classification and Topic modeling with BOW models](https://colab.research.google.com/drive/1QTn-HZPWBPnDY4vL0WlDSbHI2h-oRapp)\n",
        "\n",
        "[4.3 - NLP - Embeddings - similarity](https://colab.research.google.com/drive/1jNk7hu-N-MFJB3HjqxOhpEH151Klmnn7)\n",
        "\n",
        "[4.4 - NLP - old school Neural networks: RNN, Bidir-RNN, Deep RNN - Keras TextVectorization layer](https://colab.research.google.com/drive/1SoHS9TkfTAhowCWIOTzDgRhpiaYaD6fN)\n",
        "\n",
        "[4.5 - NLP - Neural networks before 2018: LSTM, GRU, Seq2seq architectures, attention, 1D-CNN](https://colab.research.google.com/drive/158dsgt6yro5mKx86C9ZDQ9AxFnX8bVfs)\n",
        "\n",
        "[4.6 - NLP - Neural networks after 2018: Transformers, BERT](https://colab.research.google.com/drive/1eacbgiKo78EobKxa17nNkP8b4ynd_h79)"
      ]
    },
    {
      "cell_type": "markdown",
      "metadata": {
        "id": "cfcd5wemy6DA"
      },
      "source": [
        "##Assignments - NLP\n",
        "[NLP - Hands-on 1 - Name generation with RNN](https://colab.research.google.com/drive/1N0TVj2CmHatFYjPAHSpqisCBCAixZUJI)\n",
        "\n",
        "[NLP - hands-on 2 - Multilabel classification](https://colab.research.google.com/drive/15gV6NX94aGp71VVKt_lCqU50Wher1jxB)"
      ]
    },
    {
      "cell_type": "markdown",
      "metadata": {
        "id": "LUrwfJm8Gucd"
      },
      "source": [
        "##End project Assignment\n",
        "[NLP - Question answering with ElasticSearch and Haystack](https://colab.research.google.com/drive/1MNfA6d-HTWlF_dz3NaWzQekg1uZu425n)"
      ]
    }
  ]
}